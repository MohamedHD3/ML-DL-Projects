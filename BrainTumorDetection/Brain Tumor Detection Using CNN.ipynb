{
 "cells": [
  {
   "cell_type": "markdown",
   "id": "927f40cc-0f0e-4030-bf9b-d3a83df8f5e3",
   "metadata": {},
   "source": [
    "https://www.kaggle.com/datasets/ahmedhamada0/brain-tumor-detection"
   ]
  },
  {
   "cell_type": "code",
   "execution_count": null,
   "id": "b0c11346-b6a1-4621-8868-94185c186666",
   "metadata": {},
   "outputs": [],
   "source": [
    "import cv2\n",
    "import os\n",
    "import numpy as np\n",
    "import matplotlib.pyplot as plt\n",
    "import seaborn as sns\n",
    "from sklearn.model_selection import train_test_split\n",
    "import tensorflow as tf\n",
    "from tensorflow import keras\n",
    "from keras.utils import normalize ,to_categorical\n",
    "from keras.models import Sequential\n",
    "from keras.layers import Conv2D, MaxPooling2D, Activation, Dropout, Flatten, Dense\n",
    "from sklearn.metrics import confusion_matrix, accuracy_score, precision_score"
   ]
  },
  {
   "cell_type": "markdown",
   "id": "d7038e0d-0b19-4073-b405-e429af121bfe",
   "metadata": {},
   "source": [
    "## Data Extraction & Pre-processing"
   ]
  },
  {
   "cell_type": "code",
   "execution_count": null,
   "id": "3783edb1-c0ca-42b2-b1dd-5fcf16903073",
   "metadata": {},
   "outputs": [],
   "source": [
    "image_directory = 'datasets/'\n",
    "no_tumor_images = os.listdir(image_directory + 'no')\n",
    "yes_tumor_images = os.listdir(image_directory + 'yes')\n",
    "dataset = []\n",
    "label = []\n",
    "INPYT_SIZE = 128\n",
    "type(no_tumor_images)"
   ]
  },
  {
   "cell_type": "code",
   "execution_count": null,
   "id": "6e9edc3d-8b73-4db4-a225-dbacfba99cae",
   "metadata": {},
   "outputs": [],
   "source": [
    "len(no_tumor_images)"
   ]
  },
  {
   "cell_type": "code",
   "execution_count": null,
   "id": "d27c6d69-118f-4cf9-a6d3-aaaff9f2da61",
   "metadata": {},
   "outputs": [],
   "source": [
    "path = 'no0.jpg'\n",
    "print(path.split('.'))\n",
    "print(path.split('.')[1])"
   ]
  },
  {
   "cell_type": "code",
   "execution_count": null,
   "id": "57b31731-89c4-451b-9d97-b8c285c74ea1",
   "metadata": {},
   "outputs": [],
   "source": [
    "# Check all images in a directory with the file extension '.jpg'\n",
    "\n",
    "# Filter the list to only include files with the '.jpg' extension\n",
    "jpg_files = [file for file in no_tumor_images if file.lower().endswith('.jpg')]\n",
    "print(\"Number of JPG files in the directory:\", len(jpg_files))"
   ]
  },
  {
   "cell_type": "code",
   "execution_count": null,
   "id": "25acf911-6a87-4642-a8ee-f6d375c2c511",
   "metadata": {},
   "outputs": [],
   "source": [
    "# Print the list of jpg files\n",
    "print(\"JPG files in the directory:\")\n",
    "for jpg_file in jpg_files:\n",
    "    print(jpg_file)"
   ]
  },
  {
   "cell_type": "code",
   "execution_count": null,
   "id": "2b23a9de-b4cd-4c23-a6ed-a0c8d310b8d3",
   "metadata": {},
   "outputs": [],
   "source": [
    "# OR \n",
    "# FOR NO\n",
    "for i, image_name in enumerate(no_tumor_images): # return dic.\n",
    "    if(image_name.split('.')[1] == 'jpg'):\n",
    "        # Read an image in BGR format\n",
    "        image_path = os.path.join(image_directory, 'no', image_name)\n",
    "        image_bgr = cv2.imread(image_path)\n",
    "        # Rezies\n",
    "        image_resized = cv2.resize(image_bgr, (INPYT_SIZE, INPYT_SIZE))\n",
    "        # Convert BGR to RGB\n",
    "        image_rgb = cv2.cvtColor(image_resized, cv2.COLOR_BGR2RGB)\n",
    "        # Convert the image to a NumPy array\n",
    "        image_array = np.array(image_rgb)\n",
    "        # Append the İmages & Labels\n",
    "        dataset.append(image_array)\n",
    "        label.append(0)"
   ]
  },
  {
   "cell_type": "code",
   "execution_count": null,
   "id": "82f044ea-0602-4422-88d6-0cb556fcccbb",
   "metadata": {},
   "outputs": [],
   "source": [
    "plt.imshow(dataset[0])\n",
    "plt.title(\"No Tumor Image\")\n",
    "plt.show()"
   ]
  },
  {
   "cell_type": "code",
   "execution_count": null,
   "id": "68a28676-87d9-49ab-b499-78ab468228ee",
   "metadata": {},
   "outputs": [],
   "source": [
    "# FOR YES\n",
    "for i, image_name in enumerate(yes_tumor_images): # return dic.\n",
    "    if(image_name.split('.')[1] == 'jpg'):\n",
    "        # Read an image in BGR format\n",
    "        image_path = os.path.join(image_directory, 'yes', image_name)\n",
    "        image_bgr = cv2.imread(image_path)\n",
    "        # Rezies\n",
    "        image_resized = cv2.resize(image_bgr, (INPYT_SIZE, INPYT_SIZE))\n",
    "        # Convert BGR to RGB\n",
    "        image_rgb = cv2.cvtColor(image_resized, cv2.COLOR_BGR2RGB)\n",
    "        # Convert the image to a NumPy array\n",
    "        image_array = np.array(image_rgb)\n",
    "        # Append the İmages & Labels\n",
    "        dataset.append(image_array)\n",
    "        label.append(1)"
   ]
  },
  {
   "cell_type": "code",
   "execution_count": null,
   "id": "ffb9b5c0-3520-4b98-9a69-20a9a8040335",
   "metadata": {},
   "outputs": [],
   "source": [
    "print(len(dataset))\n",
    "print(len(label))"
   ]
  },
  {
   "cell_type": "code",
   "execution_count": null,
   "id": "0ad5c1ea-f0ec-4094-ab91-f3d1348b1314",
   "metadata": {},
   "outputs": [],
   "source": [
    "label[2000]"
   ]
  },
  {
   "cell_type": "code",
   "execution_count": null,
   "id": "dcd73294-29ab-47fa-86e4-2d24d429345a",
   "metadata": {},
   "outputs": [],
   "source": [
    "plt.imshow(dataset[2000])\n",
    "plt.title(\"Tumor Image\")\n",
    "plt.show()"
   ]
  },
  {
   "cell_type": "code",
   "execution_count": null,
   "id": "7acdb697-4c67-413b-bffa-c301f2cedb92",
   "metadata": {},
   "outputs": [],
   "source": [
    "print(type(dataset))\n",
    "print(type(label))"
   ]
  },
  {
   "cell_type": "markdown",
   "id": "b5d35798-2f95-4ad8-99d9-e31f00d65320",
   "metadata": {},
   "source": [
    "## Split the dataset"
   ]
  },
  {
   "cell_type": "code",
   "execution_count": null,
   "id": "d843a26d-9c4e-4d9b-9c97-ff7a733478d0",
   "metadata": {},
   "outputs": [],
   "source": [
    "dataset = np.array(dataset)\n",
    "label = np.array(label)"
   ]
  },
  {
   "cell_type": "code",
   "execution_count": null,
   "id": "162802ff-96fd-400f-a686-44557dfed8ad",
   "metadata": {},
   "outputs": [],
   "source": [
    "# The stratify parameter in train_test_split is used to ensure that the distribution of the target variable is similar in both the training and testing datasets.\n",
    "# This is particularly useful when dealing with imbalanced datasets, where one class may be underrepresented.\n",
    "\n",
    "# we have a balanced dataset with an equal number of samples for each class (1500 images for 'no_tumor' and 1500 images for 'yes_tumor'),\n",
    "# we might not necessarily need to use the stratify\n",
    "\n",
    "# Split the dataset into training and testing sets, stratified by the labels\n",
    "# X_train, X_test, y_train, y_test = train_test_split(dataset, label, test_size=0.2, random_state=0, stratify=label)\n",
    "\n",
    "X_train, X_test, y_train, y_test = train_test_split(dataset, label, test_size=0.2, random_state=0, shuffle=True)\n",
    "\n",
    "X_train.shape, X_test.shape, y_train.shape, y_test.shape\n",
    "# Shape_X = (n_iamges, image_width, image_height, n_channel(RGB))"
   ]
  },
  {
   "cell_type": "markdown",
   "id": "1ba1569a-e599-488e-9626-3c2710b04f9c",
   "metadata": {},
   "source": [
    "## Normalize Data"
   ]
  },
  {
   "cell_type": "code",
   "execution_count": null,
   "id": "1cb2a91c-6057-4f8b-9b66-78bcc54770ae",
   "metadata": {},
   "outputs": [],
   "source": [
    "# OR \n",
    "# Normalize the pixel values to the range [0, 1]\n",
    "X_train_normalized = X_train / 255.0\n",
    "X_test_normalized = X_test / 255.0"
   ]
  },
  {
   "cell_type": "code",
   "execution_count": null,
   "id": "6d72798c-2b89-4e0a-9332-cf28b47d0e6b",
   "metadata": {},
   "outputs": [],
   "source": [
    "# Choose an index for the sample image\n",
    "sample_index = 100\n",
    "\n",
    "# Original image\n",
    "original_image = X_train[sample_index]\n",
    "\n",
    "# Normalized image\n",
    "normalized_image = X_train_normalized[sample_index]\n",
    "\n",
    "# Display the original and normalized images\n",
    "plt.figure(figsize=(8, 4))\n",
    "\n",
    "# Original image\n",
    "plt.subplot(1, 2, 1)\n",
    "plt.imshow(original_image)\n",
    "plt.title('Original Image')\n",
    "plt.axis('off')\n",
    "\n",
    "# Normalized image\n",
    "plt.subplot(1, 2, 2)\n",
    "plt.imshow(normalized_image)\n",
    "plt.title('Normalized Image')\n",
    "plt.axis('off')\n",
    "\n",
    "plt.show()"
   ]
  },
  {
   "cell_type": "code",
   "execution_count": null,
   "id": "0fb1be05-b052-40de-a317-87c0d984469e",
   "metadata": {},
   "outputs": [],
   "source": [
    "sample_index = 0\n",
    "\n",
    "# Original pixel values\n",
    "original_pixel_values = X_train[sample_index]\n",
    "\n",
    "# Normalized pixel values\n",
    "normalized_pixel_values = X_train_normalized[sample_index]\n",
    "\n",
    "# Print the pixel values\n",
    "print(\"Original Pixel Values:\")\n",
    "print(original_pixel_values)\n",
    "\n",
    "print(\"\\nNormalized Pixel Values:\")\n",
    "print(normalized_pixel_values)"
   ]
  },
  {
   "cell_type": "markdown",
   "id": "29e383a6-8ab9-4948-ad67-5d8581b65f82",
   "metadata": {},
   "source": [
    "##### Now, X_train_normalized and X_test_normalized will contain the normalized pixel values, and each pixel value will be scaled to the range [0, 1]."
   ]
  },
  {
   "cell_type": "code",
   "execution_count": null,
   "id": "46368579-58a6-4f91-84e0-9a465e92cba5",
   "metadata": {},
   "outputs": [],
   "source": [
    "X_train = X_train_normalized\n",
    "X_test = X_test_normalized"
   ]
  },
  {
   "cell_type": "markdown",
   "id": "ea8e0d5c-4bdf-4413-ba67-7fb6c5035461",
   "metadata": {},
   "source": [
    "## Build CNN_Model"
   ]
  },
  {
   "attachments": {
    "2e654e28-fcd3-4a42-b5e2-0921adadfd02.png": {
     "image/png": "[encoded data removed]"
    }
   },
   "cell_type": "markdown",
   "id": "9a2d6f4c-3f93-4477-a01e-4b0adb199cd5",
   "metadata": {},
   "source": [
    "![CNN layers.png](attachment:2e654e28-fcd3-4a42-b5e2-0921adadfd02.png)"
   ]
  },
  {
   "attachments": {
    "a1d67984-fc02-4a13-8110-21db23ebeae2.webp": {
     "image/webp": "[encoded data removed]"
    }
   },
   "cell_type": "markdown",
   "id": "0e7253d4-5607-489f-a6c7-ce8f968e1acd",
   "metadata": {},
   "source": [
    "![relu.webp](attachment:a1d67984-fc02-4a13-8110-21db23ebeae2.webp)"
   ]
  },
  {
   "attachments": {
    "94031c07-dea0-482c-8a9a-ec0da2f0d2ec.webp": {
     "image/webp": "[encoded data removed]"
    }
   },
   "cell_type": "markdown",
   "id": "37021180-afdf-4986-bb08-1d7a066640f0",
   "metadata": {},
   "source": [
    "![i.webp](attachment:94031c07-dea0-482c-8a9a-ec0da2f0d2ec.webp)"
   ]
  },
  {
   "cell_type": "markdown",
   "id": "fdac082d-3e29-4fc2-986e-295dde504a9d",
   "metadata": {},
   "source": [
    "#### NOTES: The kernel_initializer in a neural network is a parameter that defines the method used to initialize the weights (or kernels) of the neurons in a layer.\n",
    "\n",
    "kernel_initializer='glorot_normal' : This initializer is suitable for tanh or sigmoid activations.\n",
    "\n",
    "kernel_initializer='glorot_uniform' : Similar to Glorot Normal, but with weights initialized from a uniform distribution.\n",
    "\n",
    "kernel_initializer='he_normal' : This initializer is often used with ReLU activations\n",
    "\n",
    "kernel_initializer='he_uniform' : Similar to He Normal, but with weights initialized from a uniform distribution."
   ]
  },
  {
   "cell_type": "markdown",
   "id": "81e9e30e-4dc0-4e45-9ea5-48a52c344647",
   "metadata": {},
   "source": [
    "### NOTE: loss function\n",
    "#### Binary CrossEntropy -> output_layer(1, sigmoid)\n",
    "#### Categorigal CrossEntropy -> output_layer(2, softmax)"
   ]
  },
  {
   "cell_type": "code",
   "execution_count": null,
   "id": "11dfa334-9d82-4573-822e-d660a1533125",
   "metadata": {},
   "outputs": [],
   "source": [
    "model = Sequential()\n",
    "# 32: This represents the number of filters (or kernels). Each filter is responsible for detecting different features in the input image.\n",
    "# (3, 3): This is the size of each filter. each filter has a 3x3 grid size. The size of the filter determines the spatial extent over which the filter is applied to the input. Smaller filter sizes capture fine-grained features, while larger filter sizes capture more global features.\n",
    "#  Rectified Linear Unit (ReLU) activation function \n",
    "\n",
    "model.add(Conv2D(32, (3, 3), input_shape=(INPYT_SIZE, INPYT_SIZE, 3), activation='relu'))\n",
    "# model.add(Activation('relu'))\n",
    "# pool size of (2, 2), which means it will take the maximum value within each 2x2 region of the input\n",
    "model.add(MaxPooling2D(pool_size=(2,2)))\n",
    "\n",
    "model.add(Conv2D(32, (3, 3), kernel_initializer='he_uniform', activation='relu'))\n",
    "# model.add(Activation('relu'))\n",
    "model.add(MaxPooling2D(pool_size=(2,2)))\n",
    "\n",
    "model.add(Conv2D(64, (3, 3), kernel_initializer='he_uniform', activation='relu'))\n",
    "# model.add(Activation('relu'))\n",
    "model.add(MaxPooling2D(pool_size=(2,2)))\n",
    "\n",
    "model.add(Flatten())\n",
    "model.add(Dense(64, activation='relu'))\n",
    "# model.add(Activation('relu'))\n",
    "# The dropout layer helps prevent overfitting by randomly dropping a fraction of neurons during training.\n",
    "model.add(Dropout(0.5))\n",
    "model.add(Dense(1, activation='sigmoid')) # output layer\n",
    "# model.add(Activation('sigmoid'))"
   ]
  },
  {
   "cell_type": "code",
   "execution_count": null,
   "id": "07cf922c-c353-4baa-9082-3e9c518bae76",
   "metadata": {},
   "outputs": [],
   "source": [
    "# Print the model summary to see the architecture\n",
    "model.summary()"
   ]
  },
  {
   "cell_type": "code",
   "execution_count": null,
   "id": "acadc318-dd9a-41fa-84d4-debc8122b519",
   "metadata": {},
   "outputs": [],
   "source": [
    "# Compile the Model\n",
    "model.compile(optimizer='adam', loss='binary_crossentropy', metrics=['accuracy'])"
   ]
  },
  {
   "cell_type": "markdown",
   "id": "923bd37b-1a32-4426-a344-ea1290485e22",
   "metadata": {},
   "source": [
    "### NOTE: Batch size\n",
    "batch size depends on various factors, including the available memory and the size of your dataset. Smaller batch sizes might be beneficial for models with limited memory, while larger batch sizes can improve computational efficiency."
   ]
  },
  {
   "cell_type": "markdown",
   "id": "39ddf73d-84eb-412d-995b-81801896b84d",
   "metadata": {},
   "source": [
    "### NOTE: verbose\n",
    "verbose=0: Silent mode. No output during training.\n",
    "\n",
    "verbose=1: Progress bar. It shows a progress bar for each epoch, including metrics like loss and accuracy.\n",
    "\n",
    "\n",
    "verbose=2: One line per epoch. It shows one line of output for each epoch, including metrics.\n",
    "\n",
    "\n",
    "verbose=3: One line per training step. It shows one line of output for each update to the model.el."
   ]
  },
  {
   "cell_type": "markdown",
   "id": "8d2b2368-e48f-45c8-aa08-85202d7382a8",
   "metadata": {},
   "source": [
    "### NOTE: Epochs\n",
    "The model will be trained for 10 epochs. During each epoch, the entire training dataset (X_train and y_train) will be processed in batches of size 16 (specified by batch_size). After each epoch, the model's performance on the validation dataset (X_test and y_test) will be evaluated."
   ]
  },
  {
   "cell_type": "code",
   "execution_count": null,
   "id": "7a44b95c-443e-40ca-bc26-e963a1c9ac81",
   "metadata": {},
   "outputs": [],
   "source": [
    "# Fit (Train) the Model\n",
    "model.fit(X_train, y_train, \n",
    "          batch_size=16, \n",
    "          verbose=1, epochs=10,\n",
    "          validation_data=(X_test, y_test),\n",
    "          shuffle=True)"
   ]
  },
  {
   "cell_type": "markdown",
   "id": "92970da4-2899-4973-996f-0c106a795ab4",
   "metadata": {},
   "source": [
    "## Metrices"
   ]
  },
  {
   "cell_type": "code",
   "execution_count": null,
   "id": "43528270-88c2-4af8-9b5b-3d1230c8c81e",
   "metadata": {},
   "outputs": [],
   "source": [
    "y_pred = model.predict(X_test)\n",
    "# Convert predicted probabilities to binary predictions (0 or 1)\n",
    "y_pred_binary = (y_pred > 0.5).astype(int)"
   ]
  },
  {
   "cell_type": "code",
   "execution_count": null,
   "id": "2228c66e-ac13-48f6-b5c6-1ee3191245e1",
   "metadata": {},
   "outputs": [],
   "source": [
    "# Calculate confusion matrix\n",
    "cm = confusion_matrix(y_test, y_pred_binary)\n",
    "print('Confusion Matrix:')\n",
    "print(cm)"
   ]
  },
  {
   "cell_type": "code",
   "execution_count": null,
   "id": "bc205723-0936-46a2-bcaa-a7c3bcbb7f01",
   "metadata": {},
   "outputs": [],
   "source": [
    "# Calculate accuracy and precision\n",
    "accuracy = accuracy_score(y_test, y_pred_binary)\n",
    "precision = precision_score(y_test, y_pred_binary)"
   ]
  },
  {
   "cell_type": "code",
   "execution_count": null,
   "id": "a6539059-81f2-4e5e-a2eb-8e4070782c5b",
   "metadata": {},
   "outputs": [],
   "source": [
    "accuracy, precision"
   ]
  },
  {
   "cell_type": "code",
   "execution_count": null,
   "id": "59c86d67-c240-4661-9f70-8360dbcdeae8",
   "metadata": {},
   "outputs": [],
   "source": [
    "from sklearn.metrics import confusion_matrix, ConfusionMatrixDisplay\n",
    "# Plot the confusion matrix\n",
    "labels = [0,1]\n",
    "disp = ConfusionMatrixDisplay(confusion_matrix=cm, display_labels=labels)\n",
    "disp.plot(cmap=plt.cm.Blues)\n",
    "\n",
    "plt.show()"
   ]
  },
  {
   "cell_type": "markdown",
   "id": "28babd80-8b71-4c71-8b03-7dac516468e7",
   "metadata": {},
   "source": [
    "## Save the Model"
   ]
  },
  {
   "cell_type": "code",
   "execution_count": null,
   "id": "4d98e33b-db1a-4926-9f99-f45f67d51a52",
   "metadata": {},
   "outputs": [],
   "source": [
    "model.save('Our_model.h5')"
   ]
  },
  {
   "cell_type": "markdown",
   "id": "f459da7a-9796-45d9-b589-71a6733194af",
   "metadata": {},
   "source": [
    "## Test Our Model"
   ]
  },
  {
   "cell_type": "code",
   "execution_count": null,
   "id": "d318d09d-ed76-4913-976e-3278f070b1cd",
   "metadata": {},
   "outputs": [],
   "source": [
    "from keras.models import load_model\n",
    "model_loaded = load_model('Our_model.h5')"
   ]
  },
  {
   "cell_type": "markdown",
   "id": "bee5fa79-2cf9-432a-9ce8-bf25b30eab24",
   "metadata": {},
   "source": [
    "### NOTE: Expand_dim\n",
    "The line new_image = np.expand_dims(new_image, axis=0) is used to add an extra dimension to the array to match the input shape expected by the model. This is necessary because the predict method of a Keras model expects the input data to have a certain shape, which includes the batch dimension.\n",
    "\n",
    "Before the expansion: new_image.shape is (height, width, channels)\n",
    "After the expansion: new_image.shape becomes (1, height, width, channels)"
   ]
  },
  {
   "cell_type": "code",
   "execution_count": null,
   "id": "db3db777-7f49-4da2-9350-572f97384b93",
   "metadata": {},
   "outputs": [],
   "source": [
    "# Load and preprocess the new image\n",
    "image_folder = 'pred'\n",
    "image_name = 'pred0.jpg'\n",
    "image_path = os.path.join(image_folder, image_name)\n",
    "\n",
    "new_image = cv2.imread(image_path)\n",
    "new_image = cv2.resize(new_image, (128, 128))  # Resize to match the input size of your model\n",
    "new_image = cv2.cvtColor(new_image, cv2.COLOR_BGR2RGB)  # Convert BGR to RGB\n",
    "new_image = new_image.astype(np.float32) / 255.0  # Normalize pixel values\n",
    "\n",
    "# Reshape the image to match the input shape expected by your model\n",
    "new_image = np.expand_dims(new_image, axis=0)\n",
    "\n",
    "# Make predictions\n",
    "prediction = model.predict(new_image)\n",
    "\n",
    "# Interpret the prediction\n",
    "if prediction[0, 0] > 0.5:\n",
    "    print('The model predicts that the image contains a tumor.')\n",
    "else:\n",
    "    print('The model predicts that the image does not contain a tumor.')"
   ]
  },
  {
   "cell_type": "code",
   "execution_count": null,
   "id": "4bf6bd31-832f-4d94-ae72-60cc436a9e74",
   "metadata": {},
   "outputs": [],
   "source": [
    "prediction"
   ]
  }
 ],
 "metadata": {
  "kernelspec": {
   "display_name": "Python 3 (ipykernel)",
   "language": "python",
   "name": "python3"
  },
  "language_info": {
   "codemirror_mode": {
    "name": "ipython",
    "version": 3
   },
   "file_extension": ".py",
   "mimetype": "text/x-python",
   "name": "python",
   "nbconvert_exporter": "python",
   "pygments_lexer": "ipython3",
   "version": "3.11.5"
  }
 },
 "nbformat": 4,
 "nbformat_minor": 5
}
